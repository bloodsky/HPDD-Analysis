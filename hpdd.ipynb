{
 "cells": [
  {
   "cell_type": "markdown",
   "metadata": {},
   "source": [
    "# Historical Public Debt Data\n",
    "\n",
    "## Scopo del progetto\n",
    "\n",
    "## Dati\n"
   ]
  },
  {
   "cell_type": "markdown",
   "metadata": {},
   "source": [
    "- Country Name \n",
    "- Year \n",
    "- Gross Government Debt \n",
    "- Gross Domestic Product \n",
    "- Debt to GDP Ratio"
   ]
  },
  {
   "cell_type": "code",
   "execution_count": 10,
   "metadata": {},
   "outputs": [],
   "source": [
    "import pandas as pd\n",
    "df = pd.read_csv(\"HPDD_06-13-2016 19-49-43-03_timeSeries.csv\")"
   ]
  },
  {
   "cell_type": "code",
   "execution_count": 46,
   "metadata": {
    "scrolled": true
   },
   "outputs": [
    {
     "data": {
      "text/plain": [
       "['Gross Domestic Product', 'Gross Government Debt', 'Debt to GDP Ratio']"
      ]
     },
     "execution_count": 46,
     "metadata": {},
     "output_type": "execute_result"
    }
   ],
   "source": [
    "def getCountries(df, countryLabel):\n",
    "    if df.empty:\n",
    "        print('DataFrame is empty!')\n",
    "    elif countryLabel not in df.columns:\n",
    "        print(countryLabel+' is not in DataFrame columns set!')\n",
    "    else:\n",
    "        df1 = df.drop_duplicates(subset=countryLabel, keep=\"last\")\n",
    "        return df1[countryLabel].tolist()\n",
    "    return\n",
    "\n",
    "def getIndicator(df, IndicatorLabel):\n",
    "    if df.empty:\n",
    "        print('DataFrame is empty!')\n",
    "    elif IndicatorLabel not in df.columns:\n",
    "        print(IndicatorLabel+' is not in DataFrame columns set!')\n",
    "    else:\n",
    "        df1 = df.drop_duplicates(subset=IndicatorLabel, keep=\"last\")\n",
    "        return df1[IndicatorLabel].tolist()\n",
    "    return\n",
    "\n",
    "def countryHasIndicator(df, countryLabel, IndicatorLabel):\n",
    "    count = 0\n",
    "    for x in getCountries(df, countryLabel):\n",
    "        for y in getIndicator(df, IndicatorLabel):\n",
    "            found = df[(df[countryLabel] == x) & (df[IndicatorLabel] == y)]\n",
    "            if found.empty:\n",
    "                print(x+' has no indicator: '+y)\n",
    "            else:\n",
    "                count += 1\n",
    "    if count == len(getCountries(df, countryLabel))*len(getIndicator(df, IndicatorLabel)):\n",
    "        print('Every country has all the indicators!')\n",
    "    else:\n",
    "        print('Not all the countries are associated with every indicators!')\n",
    "                \n",
    "getCountries(df, 'Country Name')\n",
    "getIndicator(df, 'Indicator Name')\n",
    "countryHasIndicator(df, 'Country Name', 'Indicator Name')"
   ]
  }
 ],
 "metadata": {
  "kernelspec": {
   "display_name": "Python 3",
   "language": "python",
   "name": "python3"
  },
  "language_info": {
   "codemirror_mode": {
    "name": "ipython",
    "version": 3
   },
   "file_extension": ".py",
   "mimetype": "text/x-python",
   "name": "python",
   "nbconvert_exporter": "python",
   "pygments_lexer": "ipython3",
   "version": "3.8.2"
  }
 },
 "nbformat": 4,
 "nbformat_minor": 4
}
